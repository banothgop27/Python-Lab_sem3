{
  "nbformat": 4,
  "nbformat_minor": 0,
  "metadata": {
    "colab": {
      "provenance": [],
      "authorship_tag": "ABX9TyNMg76hHd0v4scDN3ZH8Kq7",
      "include_colab_link": true
    },
    "kernelspec": {
      "name": "python3",
      "display_name": "Python 3"
    },
    "language_info": {
      "name": "python"
    }
  },
  "cells": [
    {
      "cell_type": "markdown",
      "metadata": {
        "id": "view-in-github",
        "colab_type": "text"
      },
      "source": [
        "<a href=\"https://colab.research.google.com/github/banothgop27/Python-Lab_sem3/blob/main/Python_Lab_sem3.ipynb\" target=\"_parent\"><img src=\"https://colab.research.google.com/assets/colab-badge.svg\" alt=\"Open In Colab\"/></a>"
      ]
    },
    {
      "cell_type": "code",
      "execution_count": null,
      "metadata": {
        "colab": {
          "base_uri": "https://localhost:8080/"
        },
        "id": "1kf5iE86AG28",
        "outputId": "da06d454-34d6-4f5c-8c3e-6855df42a555"
      },
      "outputs": [
        {
          "output_type": "stream",
          "name": "stdout",
          "text": [
            "enter first number: 3\n",
            "enter second number: 4\n",
            "After swapping the number:a=4,b=3\n"
          ]
        }
      ],
      "source": [
        "#student Name:BANOTH GOPI\n",
        "#Roll Number: 2024UG1096\n",
        "#Course:CS-2101\n",
        "#Experiment 1-Task 1: Swapping two numbers\n",
        "a = int(input(\"enter first number: \"))\n",
        "b = int(input(\"enter second number: \"))\n",
        "a,b = b,a\n",
        "print(f\"After swapping the number:a={a},b={b}\")"
      ]
    },
    {
      "cell_type": "code",
      "source": [
        "#Student Name: BANOTH GOPI\n",
        "#Roll Number:2024UG1096\n",
        "#Course:cs-2101\n",
        "#Experiment2-task2:Create a program to compute student marks(average, grade,classification)\n",
        "marks1 = float(input(\"enter marks for subject1: \"))\n",
        "marks2 = float(input(\"enter marks for subject2: \"))\n",
        "marks3 = float(input(\"enter marks for subject3: \"))\n",
        "marks4 =  float(input(\"enter marks for subject3: \"))\n",
        "total_marks = marks1+marks2+marks3+marks3+marks4\n",
        "average_marks = total_marks / 4\n",
        "print(\"total marks of student: \",total_marks)\n",
        "print(\"average marks of student: \",average_marks)\n",
        "if average_marks >= 90:\n",
        "    grade = 'A'\n",
        "elif average_marks > 80 and average_marks <= 89:\n",
        "    grade = 'B'\n",
        "elif average_marks > 70 and average_marks <= 79:\n",
        "    grade = 'C'\n",
        "elif average_marks > 60 and average_marks <= 69:\n",
        "    grade = 'D'\n",
        "else:\n",
        "    grade = 'F'\n",
        "print(grade)\n"
      ],
      "metadata": {
        "colab": {
          "base_uri": "https://localhost:8080/"
        },
        "id": "DRUM3gzXBoAV",
        "outputId": "3660a99f-ec6e-4fb5-b28c-61cd56edd3f7"
      },
      "execution_count": null,
      "outputs": [
        {
          "output_type": "stream",
          "name": "stdout",
          "text": [
            "enter marks for subject1: 67\n",
            "enter marks for subject2: 78\n",
            "enter marks for subject3: 90\n",
            "enter marks for subject3: 78\n",
            "total marks of student:  403.0\n",
            "average marks of student:  100.75\n",
            "A\n"
          ]
        }
      ]
    },
    {
      "cell_type": "code",
      "source": [
        "#Student Name: BANOTH GOPI\n",
        "#Roll Number:2024UG1096\n",
        "#Course:cs-2101\n",
        "#experiment 3-task 3: write a program to calculate the area and perimeter of a rectangle given length and breadth.\n",
        "# length = 5\n",
        "# breadth = 5\n",
        "# area = length * breadth\n",
        "# print(\"area of rectangle:\",area)\n",
        "# perimeter = 2*(length*breadth)\n",
        "# print(\"perimeter of rectangle: \",perimeter)\n",
        "length = float(input(\"enter the length: \"))\n",
        "breadth = float(input(\"enter the beadth: \"))\n",
        "area = length * breadth\n",
        "print(\"area of rectangle: \",area)\n",
        "perimeter = 2*(length * breadth)\n",
        "print(\"perimeter of rectangle: \",perimeter)\n"
      ],
      "metadata": {
        "colab": {
          "base_uri": "https://localhost:8080/"
        },
        "id": "swSW5_AwCAP5",
        "outputId": "2517cfaf-0c04-4fe7-953b-f0895eb2b528"
      },
      "execution_count": null,
      "outputs": [
        {
          "output_type": "stream",
          "name": "stdout",
          "text": [
            "enter the length: 4\n",
            "enter the beadth: 6\n",
            "area of rectangle:  24.0\n",
            "perimeter of rectangle:  48.0\n"
          ]
        }
      ]
    },
    {
      "cell_type": "code",
      "source": [
        "#student Name:BANOTH GOPI\n",
        "#Roll Number: 2024UG1096\n",
        "#Course:CS-2101\n",
        "#Experiment 4-Task 4: input two complex numbers and display their sum,difference,and product\n",
        "a = complex(input(\"enter the first number: \"))\n",
        "b = complex(input(\"enter the second number: \"))\n",
        "sum = a + b\n",
        "print(\"sum of two complex number:\",sum)\n",
        "difference = a - b\n",
        "print(\"difference of two complex number: \",difference)\n",
        "product = a * b\n",
        "print(\"product of two complex number: \",product)\n"
      ],
      "metadata": {
        "colab": {
          "base_uri": "https://localhost:8080/"
        },
        "id": "K8MdkGLTCLe5",
        "outputId": "88492ee0-ef1a-4c14-e380-ed5b4e407f50"
      },
      "execution_count": null,
      "outputs": [
        {
          "output_type": "stream",
          "name": "stdout",
          "text": [
            "enter the first number: 2+5j\n",
            "enter the second number: 4+6j\n",
            "sum of two complex number: (6+11j)\n",
            "difference of two complex number:  (-2-1j)\n",
            "product of two complex number:  (-22+32j)\n"
          ]
        }
      ]
    },
    {
      "cell_type": "code",
      "source": [
        "#student Name:BANOTH GOPI\n",
        "#Roll Number: 2024UG1096\n",
        "#Course:CS-2101\n",
        "#Experiment 5-Task 5: convert celcius to fahrenheit\n",
        "temp_c= float(input(\"enter the celcius: \"))\n",
        "temp_f = float(input(\"enter the fahrenheit: \"))\n",
        "celcius = (temp_f - 32) * 5/9\n",
        "fahrenheit = (temp_c*9/5)+32\n",
        "print(fahrenheit)\n",
        "print(celcius)"
      ],
      "metadata": {
        "colab": {
          "base_uri": "https://localhost:8080/"
        },
        "id": "552xcGCqCbHF",
        "outputId": "5fdbaded-dbcc-4465-f0e9-e7ef36d1e678"
      },
      "execution_count": null,
      "outputs": [
        {
          "output_type": "stream",
          "name": "stdout",
          "text": [
            "enter the celcius: 100\n",
            "enter the fahrenheit: 120\n",
            "212.0\n",
            "48.888888888888886\n"
          ]
        }
      ]
    },
    {
      "cell_type": "code",
      "source": [
        "#student Name:BANOTH GOPI\n",
        "#Roll Number: 2024UG1096\n",
        "#Course:CS-2101\n",
        "#Experiment 1-Task 1:Create a Python program that asks the user for their age.Implement conditional statements to check the following: If the user is below 18, print \"You are a minor.\" If the user is between 18 and 65, print \"You are an adult.\" If the user is above 65, print \"You are a senior.\" Add a check for invalid input (e.g., user enters a non-numeric value).\n",
        "age = int(input(\"enter the age: \"))\n",
        "if age < 18:\n",
        "  print(\"you are minor\")\n",
        "elif age >= 18 and age < 65:\n",
        "  print(\"you are an adult\")\n",
        "elif age >= 65:\n",
        "  print(\"you are senior\")\n",
        "else:\n",
        "  print(\"invalid age\")"
      ],
      "metadata": {
        "colab": {
          "base_uri": "https://localhost:8080/"
        },
        "id": "PZy9ub31FBn3",
        "outputId": "6bcb45c3-fd97-4b08-9952-760faae8fa1e"
      },
      "execution_count": 1,
      "outputs": [
        {
          "output_type": "stream",
          "name": "stdout",
          "text": [
            "enter the age: 25\n",
            "you are an adult\n"
          ]
        }
      ]
    },
    {
      "cell_type": "code",
      "source": [
        "#Student Name: BANOTH GOPI\n",
        "#Roll Number:2024UG1096\n",
        "#Course:cs-2101\n",
        "#Experiment2-task2:Write a Python program that generates a multiplication table for numbers from 1 to 12. Use nested loops to display the table in a well-formatted way. Print both the rows and columns of the table with their appropriate labels.\n",
        "num = int(input(\"enter the numbers:\"))\n",
        "for i in range(1,13):\n",
        "  for j in range(1,13):\n",
        "    print(i*j,end = \" \")\n",
        "  print()\n",
        "\n"
      ],
      "metadata": {
        "colab": {
          "base_uri": "https://localhost:8080/"
        },
        "id": "w7HzRQS2G3mQ",
        "outputId": "8a600bc8-8b83-49c7-9e8d-646b8845f66b"
      },
      "execution_count": 5,
      "outputs": [
        {
          "output_type": "stream",
          "name": "stdout",
          "text": [
            "enter the numbers:3\n",
            "1 2 3 4 5 6 7 8 9 10 11 12 \n",
            "2 4 6 8 10 12 14 16 18 20 22 24 \n",
            "3 6 9 12 15 18 21 24 27 30 33 36 \n",
            "4 8 12 16 20 24 28 32 36 40 44 48 \n",
            "5 10 15 20 25 30 35 40 45 50 55 60 \n",
            "6 12 18 24 30 36 42 48 54 60 66 72 \n",
            "7 14 21 28 35 42 49 56 63 70 77 84 \n",
            "8 16 24 32 40 48 56 64 72 80 88 96 \n",
            "9 18 27 36 45 54 63 72 81 90 99 108 \n",
            "10 20 30 40 50 60 70 80 90 100 110 120 \n",
            "11 22 33 44 55 66 77 88 99 110 121 132 \n",
            "12 24 36 48 60 72 84 96 108 120 132 144 \n"
          ]
        }
      ]
    },
    {
      "cell_type": "code",
      "source": [
        "#Student Name: BANOTH GOPI\n",
        "#Roll Number:2024UG1096\n",
        "#Course:cs-2101\n",
        "#experiment 3-task 3: Write a program to validate a password based on the following criteria:\n",
        "#Minimum 8 characters\n",
        "#At least one uppercase letter\n",
        "#At least one lowercase letter\n",
        "#At least one number\n",
        "#At least one special character (e.g., @, #, !, etc.)\n",
        "password = input(\"enter the password: \")\n",
        "has_upper = False\n",
        "has_lower = False\n",
        "has_digit = False\n",
        "has_special = False\n",
        "specialcharacter = \"#,@,!,$,&\"\n",
        "for char in password:\n",
        "  if char.isupper():\n",
        "    has_upper = True\n",
        "  elif char.islower():\n",
        "    has_lower = True\n",
        "  elif char.isdigit():\n",
        "    has_digit = True\n",
        "  elif char in specialcharacter:\n",
        "    has_special = True\n",
        "if len(password) < 8:\n",
        "  print(\"letter must be minimum 8 character: \")\n",
        "elif not has_upper:\n",
        "  print(\"password contain atleast one upper case\")\n",
        "elif not has_lower:\n",
        "  print(\"password contain atleast one lower case\")\n",
        "elif not has_digit:\n",
        "  print(\"password contain atleast one number\")\n",
        "elif not has_special:\n",
        "  print(\"password contain atleast one special character(@,#,$,!)\")\n",
        "else:\n",
        "  print(\"invalid password\")\n",
        "\n",
        "\n",
        "\n",
        "\n"
      ],
      "metadata": {
        "colab": {
          "base_uri": "https://localhost:8080/"
        },
        "id": "XyGpukKLJcIy",
        "outputId": "a40b3998-f5d2-42d9-ee02-e503441587b4"
      },
      "execution_count": 13,
      "outputs": [
        {
          "output_type": "stream",
          "name": "stdout",
          "text": [
            "enter the password: jharkhand\n",
            "password contain atleast one upper case\n"
          ]
        }
      ]
    },
    {
      "cell_type": "code",
      "source": [
        "#student Name:BANOTH GOPI\n",
        "#Roll Number: 2024UG1096\n",
        "#Course:CS-2101\n",
        "#Experiment 4-Task 4:Create a complex, nested dictionary representing IIIT Ranchi’s organizational structure.\n",
        "#(Visit:https://iiitranchi.ac.in/organizational_structure.aspx).\n",
        "#Write a Python program that accepts the name of an Assistant Professor and iterates through the dictionary to search for that professor. If the name is found, print the department they belong to. If the name is not found at the current level,\n",
        "def find_professor_department(name, structure):\n",
        "    for dept, info in structure[\"Academics\"][\"Departments\"].items():\n",
        "        if name in info[\"Faculty\"]:\n",
        "            return dept\n",
        "    return \"Professor not found in any department.\"\n",
        "professor_name = input(\"Enter the name of the Assistant Professor: \")\n",
        "department = find_professor_department(professor_name, iiit_ranchi_structure)\n",
        "print(f\"{professor_name} belongs to the {department} department.\")"
      ],
      "metadata": {
        "id": "w3pAkAcGSZVE"
      },
      "execution_count": null,
      "outputs": []
    },
    {
      "cell_type": "code",
      "source": [
        "#student Name:BANOTH GOPI\n",
        "#Roll Number: 2024UG1096\n",
        "#Course:CS-21016070\n",
        "#Experiment 5-Task 5:\n",
        "import pandas as pd\n",
        "import matplotlib.pyplot as plt\n",
        "import numpy as np\n",
        "\n"
      ],
      "metadata": {
        "id": "mXaaFkleSZRx"
      },
      "execution_count": 17,
      "outputs": []
    },
    {
      "cell_type": "code",
      "source": [
        "#student Name:BANOTH GOPI\n",
        "#Roll Number: 2024UG1096\n",
        "#Course:CS-21016070\n",
        "#Experiment 5-Task 5:\n",
        "import pandas as pd\n",
        "import matplotlib.pyplot as plt\n",
        "import numpy as np\n",
        "\n",
        "\n",
        "sales_data = [25, 32, 29, 35, 41, 40, 45, 38,50,58,60,70]\n",
        "months = [1,2,3,4,5,6,7,8,9,10,11,12] # Added month 5 to the months list\n",
        "sales_mean = np.array(sales_data).mean()\n",
        "print(\"sum of the sales data\",np.array(sales_data).mean())\n",
        "print(\"mean of the sales data is:\",sales_mean)\n",
        "plt.plot(months,sales_data)\n",
        "plt.show()"
      ],
      "metadata": {
        "colab": {
          "base_uri": "https://localhost:8080/",
          "height": 465
        },
        "id": "mYhgwsMeV7X2",
        "outputId": "e2cf70ac-5016-4359-f6b7-9f3d87d08336"
      },
      "execution_count": 22,
      "outputs": [
        {
          "output_type": "stream",
          "name": "stdout",
          "text": [
            "sum of the sales data 43.583333333333336\n",
            "mean of the sales data is: 43.583333333333336\n"
          ]
        },
        {
          "output_type": "display_data",
          "data": {
            "text/plain": [
              "<Figure size 640x480 with 1 Axes>"
            ],
            "image/png": "[encoded data removed]"
          },
          "metadata": {}
        }
      ]
    },
    {
      "cell_type": "code",
      "source": [],
      "metadata": {
        "id": "8K-ET-5XV9pH"
      },
      "execution_count": null,
      "outputs": []
    }
  ]
}