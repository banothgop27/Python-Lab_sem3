{
  "nbformat": 4,
  "nbformat_minor": 0,
  "metadata": {
    "colab": {
      "provenance": [],
      "authorship_tag": "ABX9TyNq9Wx0MUXfXJKddpG3B8oo",
      "include_colab_link": true
    },
    "kernelspec": {
      "name": "python3",
      "display_name": "Python 3"
    },
    "language_info": {
      "name": "python"
    }
  },
  "cells": [
    {
      "cell_type": "markdown",
      "metadata": {
        "id": "view-in-github",
        "colab_type": "text"
      },
      "source": [
        "<a href=\"https://colab.research.google.com/github/banothgop27/Python-Lab_sem3/blob/main/Python_Lab_sem3.ipynb\" target=\"_parent\"><img src=\"https://colab.research.google.com/assets/colab-badge.svg\" alt=\"Open In Colab\"/></a>"
      ]
    },
    {
      "cell_type": "code",
      "execution_count": null,
      "metadata": {
        "colab": {
          "base_uri": "https://localhost:8080/"
        },
        "id": "1kf5iE86AG28",
        "outputId": "da06d454-34d6-4f5c-8c3e-6855df42a555"
      },
      "outputs": [
        {
          "output_type": "stream",
          "name": "stdout",
          "text": [
            "enter first number: 3\n",
            "enter second number: 4\n",
            "After swapping the number:a=4,b=3\n"
          ]
        }
      ],
      "source": [
        "#student Name:BANOTH GOPI\n",
        "#Roll Number: 2024UG1096\n",
        "#Course:CS-2101\n",
        "#Experiment 1-Task 1: Swapping two numbers\n",
        "a = int(input(\"enter first number: \"))\n",
        "b = int(input(\"enter second number: \"))\n",
        "a,b = b,a\n",
        "print(f\"After swapping the number:a={a},b={b}\")"
      ]
    },
    {
      "cell_type": "code",
      "source": [
        "#Student Name: BANOTH GOPI\n",
        "#Roll Number:2024UG1096\n",
        "#Course:cs-2101\n",
        "#Experiment2-task2:Create a program to compute student marks(average, grade,classification)\n",
        "marks1 = float(input(\"enter marks for subject1: \"))\n",
        "marks2 = float(input(\"enter marks for subject2: \"))\n",
        "marks3 = float(input(\"enter marks for subject3: \"))\n",
        "marks4 =  float(input(\"enter marks for subject3: \"))\n",
        "total_marks = marks1+marks2+marks3+marks3+marks4\n",
        "average_marks = total_marks / 4\n",
        "print(\"total marks of student: \",total_marks)\n",
        "print(\"average marks of student: \",average_marks)\n",
        "if average_marks >= 90:\n",
        "    grade = 'A'\n",
        "elif average_marks > 80 and average_marks <= 89:\n",
        "    grade = 'B'\n",
        "elif average_marks > 70 and average_marks <= 79:\n",
        "    grade = 'C'\n",
        "elif average_marks > 60 and average_marks <= 69:\n",
        "    grade = 'D'\n",
        "else:\n",
        "    grade = 'F'\n",
        "print(grade)\n"
      ],
      "metadata": {
        "colab": {
          "base_uri": "https://localhost:8080/"
        },
        "id": "DRUM3gzXBoAV",
        "outputId": "3660a99f-ec6e-4fb5-b28c-61cd56edd3f7"
      },
      "execution_count": null,
      "outputs": [
        {
          "output_type": "stream",
          "name": "stdout",
          "text": [
            "enter marks for subject1: 67\n",
            "enter marks for subject2: 78\n",
            "enter marks for subject3: 90\n",
            "enter marks for subject3: 78\n",
            "total marks of student:  403.0\n",
            "average marks of student:  100.75\n",
            "A\n"
          ]
        }
      ]
    },
    {
      "cell_type": "code",
      "source": [
        "#Student Name: BANOTH GOPI\n",
        "#Roll Number:2024UG1096\n",
        "#Course:cs-2101\n",
        "#experiment 3-task 3: write a program to calculate the area and perimeter of a rectangle given length and breadth.\n",
        "# length = 5\n",
        "# breadth = 5\n",
        "# area = length * breadth\n",
        "# print(\"area of rectangle:\",area)\n",
        "# perimeter = 2*(length*breadth)\n",
        "# print(\"perimeter of rectangle: \",perimeter)\n",
        "length = float(input(\"enter the length: \"))\n",
        "breadth = float(input(\"enter the beadth: \"))\n",
        "area = length * breadth\n",
        "print(\"area of rectangle: \",area)\n",
        "perimeter = 2*(length * breadth)\n",
        "print(\"perimeter of rectangle: \",perimeter)\n"
      ],
      "metadata": {
        "colab": {
          "base_uri": "https://localhost:8080/"
        },
        "id": "swSW5_AwCAP5",
        "outputId": "2517cfaf-0c04-4fe7-953b-f0895eb2b528"
      },
      "execution_count": null,
      "outputs": [
        {
          "output_type": "stream",
          "name": "stdout",
          "text": [
            "enter the length: 4\n",
            "enter the beadth: 6\n",
            "area of rectangle:  24.0\n",
            "perimeter of rectangle:  48.0\n"
          ]
        }
      ]
    },
    {
      "cell_type": "code",
      "source": [
        "#student Name:BANOTH GOPI\n",
        "#Roll Number: 2024UG1096\n",
        "#Course:CS-2101\n",
        "#Experiment 4-Task 4: input two complex numbers and display their sum,difference,and product\n",
        "a = complex(input(\"enter the first number: \"))\n",
        "b = complex(input(\"enter the second number: \"))\n",
        "sum = a + b\n",
        "print(\"sum of two complex number:\",sum)\n",
        "difference = a - b\n",
        "print(\"difference of two complex number: \",difference)\n",
        "product = a * b\n",
        "print(\"product of two complex number: \",product)\n"
      ],
      "metadata": {
        "colab": {
          "base_uri": "https://localhost:8080/"
        },
        "id": "K8MdkGLTCLe5",
        "outputId": "88492ee0-ef1a-4c14-e380-ed5b4e407f50"
      },
      "execution_count": null,
      "outputs": [
        {
          "output_type": "stream",
          "name": "stdout",
          "text": [
            "enter the first number: 2+5j\n",
            "enter the second number: 4+6j\n",
            "sum of two complex number: (6+11j)\n",
            "difference of two complex number:  (-2-1j)\n",
            "product of two complex number:  (-22+32j)\n"
          ]
        }
      ]
    },
    {
      "cell_type": "code",
      "source": [
        "#student Name:BANOTH GOPI\n",
        "#Roll Number: 2024UG1096\n",
        "#Course:CS-2101\n",
        "#Experiment 5-Task 5: convert celcius to fahrenheit\n",
        "temp_c= float(input(\"enter the celcius: \"))\n",
        "temp_f = float(input(\"enter the fahrenheit: \"))\n",
        "celcius = (temp_f - 32) * 5/9\n",
        "fahrenheit = (temp_c*9/5)+32\n",
        "print(fahrenheit)\n",
        "print(celcius)"
      ],
      "metadata": {
        "colab": {
          "base_uri": "https://localhost:8080/"
        },
        "id": "552xcGCqCbHF",
        "outputId": "5fdbaded-dbcc-4465-f0e9-e7ef36d1e678"
      },
      "execution_count": null,
      "outputs": [
        {
          "output_type": "stream",
          "name": "stdout",
          "text": [
            "enter the celcius: 100\n",
            "enter the fahrenheit: 120\n",
            "212.0\n",
            "48.888888888888886\n"
          ]
        }
      ]
    }
  ]
}